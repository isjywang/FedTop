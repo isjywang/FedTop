{
 "cells": [
  {
   "cell_type": "code",
   "execution_count": 15,
   "id": "ba0d783b-2d0c-482e-ba7d-a1a4b330923c",
   "metadata": {},
   "outputs": [],
   "source": [
    "import numpy as np\n",
    "import os\n",
    "import torch\n",
    "from torch_geometric.utils import to_networkx, degree, to_dense_adj, to_scipy_sparse_matrix\n",
    "import torch.nn.functional as F\n",
    "from sklearn.model_selection import train_test_split\n",
    "from scipy import sparse as sp\n",
    "import dgl\n",
    "import networkx as nx\n",
    "def torch_save(base_dir, filename, data):\n",
    "    os.makedirs(base_dir, exist_ok=True)\n",
    "    fpath = os.path.join(base_dir, filename)    \n",
    "    torch.save(data, fpath)\n",
    "def torch_load(base_dir, filename):\n",
    "    fpath = os.path.join(base_dir, filename)    \n",
    "    return torch.load(fpath, map_location=torch.device('cpu'))\n",
    "def get_data(client_id,clients):\n",
    "    return [\n",
    "        torch_load(\n",
    "            \"/home/1005wjy/datasets/\", \n",
    "           f'{\"Ogbn\"}_{\"disjoint\"}/{clients}/partition_{client_id}.pt'\n",
    "        )['client_data']\n",
    "    ]\n",
    "\n",
    "\n",
    "\n",
    "def init_graphrepair(g, num_labels):\n",
    "\n",
    "    # random walk embedding\n",
    "    A = to_scipy_sparse_matrix(g.edge_index, num_nodes=g.num_nodes)\n",
    "    D = (degree(g.edge_index[0], num_nodes=g.num_nodes) ** -1.0).numpy()\n",
    "\n",
    "    Dinv=sp.diags(D)\n",
    "    RW=A*Dinv\n",
    "    M=RW\n",
    "    SE=[torch.from_numpy(M.diagonal()).float()]\n",
    "    M_power=M\n",
    "    for _ in range(15):\n",
    "        M_power=M_power*M\n",
    "        SE.append(torch.from_numpy(M_power.diagonal()).float())\n",
    "    \n",
    "    random_emb = torch.stack(SE,dim=-1)\n",
    "\n",
    "    # homogeneity embedding \n",
    "    homo_emb = torch.zeros([g.num_nodes, num_labels])\n",
    "    edge=[[int(g.edge_index[0][i]),int(g.edge_index[1][i])] for i in range(len(g.edge_index[0])) ]\n",
    "\n",
    "    for e in edge:\n",
    "        begin, end = e[0], e[1]\n",
    "        homo_emb[begin, int(g.y[end])] += 1\n",
    "        homo_emb[end, int(g.y[begin])] += 1\n",
    "    g['stc_enc'] = torch.cat([random_emb, homo_emb], dim=1)\n",
    "\n",
    "    return g\n",
    "\n",
    "num_labels = 40\n",
    "clients = 5\n"
   ]
  },
  {
   "cell_type": "code",
   "execution_count": null,
   "id": "6a04df24-15ed-4e28-b08c-07163d47cfde",
   "metadata": {},
   "outputs": [
    {
     "name": "stdout",
     "output_type": "stream",
     "text": [
      "client  0  get data over\n"
     ]
    }
   ],
   "source": [
    "for c in range(clients):\n",
    "    data_path = \"/home/1005wjy/datasets/\"\n",
    "    client_graph = get_data(c,clients)[0]\n",
    "    print(\"client \",c,\" get data over\")\n",
    "    client_graph = init_graphrepair(client_graph, num_labels)\n",
    "    torch_save(data_path, f'{\"Ogbn\"}_disjoint/{clients}/init_{c}.pt', {\n",
    "            'client_data': client_graph,\n",
    "            'client_id': c\n",
    "        })\n",
    "    print(\"client \",c,\" over\")"
   ]
  },
  {
   "cell_type": "code",
   "execution_count": 4,
   "id": "b756d58f-121b-4676-a118-aa1db52cd79c",
   "metadata": {},
   "outputs": [],
   "source": [
    "a = get_data(1,5)"
   ]
  },
  {
   "cell_type": "code",
   "execution_count": null,
   "id": "f03f7e8b-1fdb-4fe1-92a0-324962db0859",
   "metadata": {},
   "outputs": [
    {
     "name": "stdout",
     "output_type": "stream",
     "text": [
      "Collecting dgl\n",
      "  Using cached dgl-2.1.0-cp310-cp310-manylinux1_x86_64.whl (8.5 MB)\n",
      "Collecting torchdata>=0.5.0\n",
      "  Downloading torchdata-0.8.0-cp310-cp310-manylinux1_x86_64.whl (2.7 MB)\n",
      "\u001b[2K     \u001b[90m━━━━━━━━━━━━━━━━━━━━━━━━━━━━━━━━━━━━━━━━\u001b[0m \u001b[32m2.7/2.7 MB\u001b[0m \u001b[31m5.7 MB/s\u001b[0m eta \u001b[36m0:00:00\u001b[0m00:01\u001b[0m00:01\u001b[0m0m\n",
      "\u001b[?25hCollecting networkx>=2.1\n",
      "  Downloading networkx-3.3-py3-none-any.whl (1.7 MB)\n",
      "\u001b[2K     \u001b[90m━━━━━━━━━━━━━━━━━━━━━━━━━━━━━━━━━━━━━━━━\u001b[0m \u001b[32m1.7/1.7 MB\u001b[0m \u001b[31m11.3 MB/s\u001b[0m eta \u001b[36m0:00:00\u001b[0ma \u001b[36m0:00:01\u001b[0m\n",
      "\u001b[?25hRequirement already satisfied: psutil>=5.8.0 in /home/1005wjy/getreddit/lib/python3.10/site-packages (from dgl) (5.9.8)\n",
      "Requirement already satisfied: scipy>=1.1.0 in /home/1005wjy/getreddit/lib/python3.10/site-packages (from dgl) (1.12.0)\n",
      "Requirement already satisfied: requests>=2.19.0 in /home/1005wjy/getreddit/lib/python3.10/site-packages (from dgl) (2.31.0)\n",
      "Requirement already satisfied: tqdm in /home/1005wjy/getreddit/lib/python3.10/site-packages (from dgl) (4.66.2)\n",
      "Requirement already satisfied: numpy>=1.14.0 in /home/1005wjy/getreddit/lib/python3.10/site-packages (from dgl) (1.26.4)\n",
      "Requirement already satisfied: urllib3<3,>=1.21.1 in /home/1005wjy/getreddit/lib/python3.10/site-packages (from requests>=2.19.0->dgl) (2.2.1)\n",
      "Requirement already satisfied: idna<4,>=2.5 in /home/1005wjy/getreddit/lib/python3.10/site-packages (from requests>=2.19.0->dgl) (3.6)\n",
      "Requirement already satisfied: charset-normalizer<4,>=2 in /home/1005wjy/getreddit/lib/python3.10/site-packages (from requests>=2.19.0->dgl) (3.3.2)\n",
      "Requirement already satisfied: certifi>=2017.4.17 in /home/1005wjy/getreddit/lib/python3.10/site-packages (from requests>=2.19.0->dgl) (2024.2.2)\n",
      "Collecting torch>=2\n",
      "  Downloading torch-2.4.0-cp310-cp310-manylinux1_x86_64.whl (797.2 MB)\n",
      "\u001b[2K     \u001b[91m━━━━━━━━━━━━━━━━━━━━━━━━━━━━━━━━━━━━\u001b[0m\u001b[91m╸\u001b[0m\u001b[90m━━\u001b[0m \u001b[32m748.0/797.2 MB\u001b[0m \u001b[31m3.4 MB/s\u001b[0m eta \u001b[36m0:00:15\u001b[0m"
     ]
    }
   ],
   "source": [
    "pip install dgl"
   ]
  }
 ],
 "metadata": {
  "kernelspec": {
   "display_name": "base",
   "language": "python",
   "name": "base"
  },
  "language_info": {
   "codemirror_mode": {
    "name": "ipython",
    "version": 3
   },
   "file_extension": ".py",
   "mimetype": "text/x-python",
   "name": "python",
   "nbconvert_exporter": "python",
   "pygments_lexer": "ipython3",
   "version": "3.10.12"
  }
 },
 "nbformat": 4,
 "nbformat_minor": 5
}
